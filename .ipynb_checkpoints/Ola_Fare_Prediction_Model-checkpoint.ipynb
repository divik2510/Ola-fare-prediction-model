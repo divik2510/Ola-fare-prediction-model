{
 "cells": [
  {
   "cell_type": "code",
   "execution_count": 1,
   "metadata": {},
   "outputs": [],
   "source": [
    "import numpy as np\n",
    "import pandas as pd\n",
    "import matplotlib.pyplot as plt\n",
    "import seaborn as sns"
   ]
  },
  {
   "cell_type": "code",
   "execution_count": 2,
   "metadata": {},
   "outputs": [
    {
     "name": "stderr",
     "output_type": "stream",
     "text": [
      "C:\\Users\\divik\\AppData\\Local\\Temp\\ipykernel_23740\\2487704972.py:1: DtypeWarning: Columns (1,4,10) have mixed types. Specify dtype option on import or set low_memory=False.\n",
      "  df = pd.read_csv('chh-ola\\\\train.csv')\n"
     ]
    }
   ],
   "source": [
    "df = pd.read_csv('chh-ola\\\\train.csv')"
   ]
  },
  {
   "cell_type": "code",
   "execution_count": 3,
   "metadata": {},
   "outputs": [
    {
     "name": "stdout",
     "output_type": "stream",
     "text": [
      "<class 'pandas.core.frame.DataFrame'>\n",
      "RangeIndex: 1048575 entries, 0 to 1048574\n",
      "Data columns (total 17 columns):\n",
      " #   Column                  Non-Null Count    Dtype  \n",
      "---  ------                  --------------    -----  \n",
      " 0   ID                      1048575 non-null  int64  \n",
      " 1   vendor+AF8-id           1048575 non-null  object \n",
      " 2   pickup+AF8-loc          1048574 non-null  float64\n",
      " 3   drop+AF8-loc            1048574 non-null  float64\n",
      " 4   driver+AF8-tip          1048573 non-null  object \n",
      " 5   mta+AF8-tax             1048574 non-null  object \n",
      " 6   distance                1048574 non-null  float64\n",
      " 7   pickup+AF8-time         1048574 non-null  object \n",
      " 8   drop+AF8-time           1048574 non-null  object \n",
      " 9   num+AF8-passengers      1048574 non-null  float64\n",
      " 10  toll+AF8-amount         1048573 non-null  object \n",
      " 11  payment+AF8-method      1048574 non-null  float64\n",
      " 12  rate+AF8-code           1048574 non-null  float64\n",
      " 13  stored+AF8-flag         1048574 non-null  object \n",
      " 14  extra+AF8-charges       1048574 non-null  object \n",
      " 15  improvement+AF8-charge  1048573 non-null  object \n",
      " 16  total+AF8-amount        1048573 non-null  object \n",
      "dtypes: float64(6), int64(1), object(10)\n",
      "memory usage: 136.0+ MB\n"
     ]
    }
   ],
   "source": [
    "df.info()"
   ]
  },
  {
   "cell_type": "code",
   "execution_count": 4,
   "metadata": {},
   "outputs": [],
   "source": [
    "df.drop(['ID','pickup+AF8-time','drop+AF8-time','stored+AF8-flag'],axis=1,inplace=True)"
   ]
  },
  {
   "cell_type": "code",
   "execution_count": 5,
   "metadata": {},
   "outputs": [
    {
     "data": {
      "text/html": [
       "<div>\n",
       "<style scoped>\n",
       "    .dataframe tbody tr th:only-of-type {\n",
       "        vertical-align: middle;\n",
       "    }\n",
       "\n",
       "    .dataframe tbody tr th {\n",
       "        vertical-align: top;\n",
       "    }\n",
       "\n",
       "    .dataframe thead th {\n",
       "        text-align: right;\n",
       "    }\n",
       "</style>\n",
       "<table border=\"1\" class=\"dataframe\">\n",
       "  <thead>\n",
       "    <tr style=\"text-align: right;\">\n",
       "      <th></th>\n",
       "      <th>pickup+AF8-loc</th>\n",
       "      <th>drop+AF8-loc</th>\n",
       "      <th>distance</th>\n",
       "      <th>num+AF8-passengers</th>\n",
       "      <th>payment+AF8-method</th>\n",
       "      <th>rate+AF8-code</th>\n",
       "    </tr>\n",
       "  </thead>\n",
       "  <tbody>\n",
       "    <tr>\n",
       "      <th>count</th>\n",
       "      <td>1.048574e+06</td>\n",
       "      <td>1.048574e+06</td>\n",
       "      <td>1.048574e+06</td>\n",
       "      <td>1.048574e+06</td>\n",
       "      <td>1.048574e+06</td>\n",
       "      <td>1.048574e+06</td>\n",
       "    </tr>\n",
       "    <tr>\n",
       "      <th>mean</th>\n",
       "      <td>1.648085e+02</td>\n",
       "      <td>1.626675e+02</td>\n",
       "      <td>2.859832e+00</td>\n",
       "      <td>1.590696e+00</td>\n",
       "      <td>1.317943e+00</td>\n",
       "      <td>1.043368e+00</td>\n",
       "    </tr>\n",
       "    <tr>\n",
       "      <th>std</th>\n",
       "      <td>6.579282e+01</td>\n",
       "      <td>6.953073e+01</td>\n",
       "      <td>3.709541e+00</td>\n",
       "      <td>1.253700e+00</td>\n",
       "      <td>4.853266e-01</td>\n",
       "      <td>5.621114e-01</td>\n",
       "    </tr>\n",
       "    <tr>\n",
       "      <th>min</th>\n",
       "      <td>1.000000e+00</td>\n",
       "      <td>1.000000e+00</td>\n",
       "      <td>0.000000e+00</td>\n",
       "      <td>0.000000e+00</td>\n",
       "      <td>1.000000e+00</td>\n",
       "      <td>1.000000e+00</td>\n",
       "    </tr>\n",
       "    <tr>\n",
       "      <th>25%</th>\n",
       "      <td>1.250000e+02</td>\n",
       "      <td>1.130000e+02</td>\n",
       "      <td>9.300000e-01</td>\n",
       "      <td>1.000000e+00</td>\n",
       "      <td>1.000000e+00</td>\n",
       "      <td>1.000000e+00</td>\n",
       "    </tr>\n",
       "    <tr>\n",
       "      <th>50%</th>\n",
       "      <td>1.620000e+02</td>\n",
       "      <td>1.620000e+02</td>\n",
       "      <td>1.600000e+00</td>\n",
       "      <td>1.000000e+00</td>\n",
       "      <td>1.000000e+00</td>\n",
       "      <td>1.000000e+00</td>\n",
       "    </tr>\n",
       "    <tr>\n",
       "      <th>75%</th>\n",
       "      <td>2.330000e+02</td>\n",
       "      <td>2.330000e+02</td>\n",
       "      <td>2.900000e+00</td>\n",
       "      <td>2.000000e+00</td>\n",
       "      <td>2.000000e+00</td>\n",
       "      <td>1.000000e+00</td>\n",
       "    </tr>\n",
       "    <tr>\n",
       "      <th>max</th>\n",
       "      <td>2.650000e+02</td>\n",
       "      <td>2.650000e+02</td>\n",
       "      <td>1.138000e+02</td>\n",
       "      <td>9.000000e+00</td>\n",
       "      <td>4.000000e+00</td>\n",
       "      <td>9.900000e+01</td>\n",
       "    </tr>\n",
       "  </tbody>\n",
       "</table>\n",
       "</div>"
      ],
      "text/plain": [
       "       pickup+AF8-loc  drop+AF8-loc      distance  num+AF8-passengers  \\\n",
       "count    1.048574e+06  1.048574e+06  1.048574e+06        1.048574e+06   \n",
       "mean     1.648085e+02  1.626675e+02  2.859832e+00        1.590696e+00   \n",
       "std      6.579282e+01  6.953073e+01  3.709541e+00        1.253700e+00   \n",
       "min      1.000000e+00  1.000000e+00  0.000000e+00        0.000000e+00   \n",
       "25%      1.250000e+02  1.130000e+02  9.300000e-01        1.000000e+00   \n",
       "50%      1.620000e+02  1.620000e+02  1.600000e+00        1.000000e+00   \n",
       "75%      2.330000e+02  2.330000e+02  2.900000e+00        2.000000e+00   \n",
       "max      2.650000e+02  2.650000e+02  1.138000e+02        9.000000e+00   \n",
       "\n",
       "       payment+AF8-method  rate+AF8-code  \n",
       "count        1.048574e+06   1.048574e+06  \n",
       "mean         1.317943e+00   1.043368e+00  \n",
       "std          4.853266e-01   5.621114e-01  \n",
       "min          1.000000e+00   1.000000e+00  \n",
       "25%          1.000000e+00   1.000000e+00  \n",
       "50%          1.000000e+00   1.000000e+00  \n",
       "75%          2.000000e+00   1.000000e+00  \n",
       "max          4.000000e+00   9.900000e+01  "
      ]
     },
     "execution_count": 5,
     "metadata": {},
     "output_type": "execute_result"
    }
   ],
   "source": [
    "df.describe()"
   ]
  },
  {
   "cell_type": "code",
   "execution_count": 6,
   "metadata": {},
   "outputs": [],
   "source": [
    "df = df.dropna()"
   ]
  },
  {
   "cell_type": "code",
   "execution_count": 7,
   "metadata": {},
   "outputs": [
    {
     "data": {
      "text/plain": [
       "1048573"
      ]
     },
     "execution_count": 7,
     "metadata": {},
     "output_type": "execute_result"
    }
   ],
   "source": [
    "len(df)"
   ]
  },
  {
   "cell_type": "code",
   "execution_count": 8,
   "metadata": {},
   "outputs": [
    {
     "data": {
      "text/html": [
       "<div>\n",
       "<style scoped>\n",
       "    .dataframe tbody tr th:only-of-type {\n",
       "        vertical-align: middle;\n",
       "    }\n",
       "\n",
       "    .dataframe tbody tr th {\n",
       "        vertical-align: top;\n",
       "    }\n",
       "\n",
       "    .dataframe thead th {\n",
       "        text-align: right;\n",
       "    }\n",
       "</style>\n",
       "<table border=\"1\" class=\"dataframe\">\n",
       "  <thead>\n",
       "    <tr style=\"text-align: right;\">\n",
       "      <th></th>\n",
       "      <th>pickup+AF8-loc</th>\n",
       "      <th>drop+AF8-loc</th>\n",
       "      <th>distance</th>\n",
       "      <th>num+AF8-passengers</th>\n",
       "      <th>payment+AF8-method</th>\n",
       "      <th>rate+AF8-code</th>\n",
       "    </tr>\n",
       "  </thead>\n",
       "  <tbody>\n",
       "    <tr>\n",
       "      <th>pickup+AF8-loc</th>\n",
       "      <td>1.000000</td>\n",
       "      <td>0.111652</td>\n",
       "      <td>-0.091637</td>\n",
       "      <td>-0.006588</td>\n",
       "      <td>-0.008939</td>\n",
       "      <td>-0.004960</td>\n",
       "    </tr>\n",
       "    <tr>\n",
       "      <th>drop+AF8-loc</th>\n",
       "      <td>0.111652</td>\n",
       "      <td>1.000000</td>\n",
       "      <td>-0.104494</td>\n",
       "      <td>-0.005072</td>\n",
       "      <td>-0.005919</td>\n",
       "      <td>0.000029</td>\n",
       "    </tr>\n",
       "    <tr>\n",
       "      <th>distance</th>\n",
       "      <td>-0.091637</td>\n",
       "      <td>-0.104494</td>\n",
       "      <td>1.000000</td>\n",
       "      <td>0.018222</td>\n",
       "      <td>-0.053355</td>\n",
       "      <td>0.215275</td>\n",
       "    </tr>\n",
       "    <tr>\n",
       "      <th>num+AF8-passengers</th>\n",
       "      <td>-0.006588</td>\n",
       "      <td>-0.005072</td>\n",
       "      <td>0.018222</td>\n",
       "      <td>1.000000</td>\n",
       "      <td>0.009633</td>\n",
       "      <td>-0.005544</td>\n",
       "    </tr>\n",
       "    <tr>\n",
       "      <th>payment+AF8-method</th>\n",
       "      <td>-0.008939</td>\n",
       "      <td>-0.005919</td>\n",
       "      <td>-0.053355</td>\n",
       "      <td>0.009633</td>\n",
       "      <td>1.000000</td>\n",
       "      <td>-0.000652</td>\n",
       "    </tr>\n",
       "    <tr>\n",
       "      <th>rate+AF8-code</th>\n",
       "      <td>-0.004960</td>\n",
       "      <td>0.000029</td>\n",
       "      <td>0.215275</td>\n",
       "      <td>-0.005544</td>\n",
       "      <td>-0.000652</td>\n",
       "      <td>1.000000</td>\n",
       "    </tr>\n",
       "  </tbody>\n",
       "</table>\n",
       "</div>"
      ],
      "text/plain": [
       "                    pickup+AF8-loc  drop+AF8-loc  distance  \\\n",
       "pickup+AF8-loc            1.000000      0.111652 -0.091637   \n",
       "drop+AF8-loc              0.111652      1.000000 -0.104494   \n",
       "distance                 -0.091637     -0.104494  1.000000   \n",
       "num+AF8-passengers       -0.006588     -0.005072  0.018222   \n",
       "payment+AF8-method       -0.008939     -0.005919 -0.053355   \n",
       "rate+AF8-code            -0.004960      0.000029  0.215275   \n",
       "\n",
       "                    num+AF8-passengers  payment+AF8-method  rate+AF8-code  \n",
       "pickup+AF8-loc               -0.006588           -0.008939      -0.004960  \n",
       "drop+AF8-loc                 -0.005072           -0.005919       0.000029  \n",
       "distance                      0.018222           -0.053355       0.215275  \n",
       "num+AF8-passengers            1.000000            0.009633      -0.005544  \n",
       "payment+AF8-method            0.009633            1.000000      -0.000652  \n",
       "rate+AF8-code                -0.005544           -0.000652       1.000000  "
      ]
     },
     "execution_count": 8,
     "metadata": {},
     "output_type": "execute_result"
    }
   ],
   "source": [
    "df.corr()"
   ]
  },
  {
   "cell_type": "code",
   "execution_count": 9,
   "metadata": {},
   "outputs": [
    {
     "data": {
      "text/html": [
       "<div>\n",
       "<style scoped>\n",
       "    .dataframe tbody tr th:only-of-type {\n",
       "        vertical-align: middle;\n",
       "    }\n",
       "\n",
       "    .dataframe tbody tr th {\n",
       "        vertical-align: top;\n",
       "    }\n",
       "\n",
       "    .dataframe thead th {\n",
       "        text-align: right;\n",
       "    }\n",
       "</style>\n",
       "<table border=\"1\" class=\"dataframe\">\n",
       "  <thead>\n",
       "    <tr style=\"text-align: right;\">\n",
       "      <th></th>\n",
       "      <th>vendor+AF8-id</th>\n",
       "      <th>pickup+AF8-loc</th>\n",
       "      <th>drop+AF8-loc</th>\n",
       "      <th>driver+AF8-tip</th>\n",
       "      <th>mta+AF8-tax</th>\n",
       "      <th>distance</th>\n",
       "      <th>num+AF8-passengers</th>\n",
       "      <th>toll+AF8-amount</th>\n",
       "      <th>payment+AF8-method</th>\n",
       "      <th>rate+AF8-code</th>\n",
       "      <th>extra+AF8-charges</th>\n",
       "      <th>improvement+AF8-charge</th>\n",
       "      <th>total+AF8-amount</th>\n",
       "    </tr>\n",
       "  </thead>\n",
       "  <tbody>\n",
       "    <tr>\n",
       "      <th>0</th>\n",
       "      <td>1</td>\n",
       "      <td>170.0</td>\n",
       "      <td>233.0</td>\n",
       "      <td>1.83</td>\n",
       "      <td>0.5</td>\n",
       "      <td>0.70</td>\n",
       "      <td>1.0</td>\n",
       "      <td>0.0</td>\n",
       "      <td>1.0</td>\n",
       "      <td>1.0</td>\n",
       "      <td>1</td>\n",
       "      <td>0.3</td>\n",
       "      <td>9.13</td>\n",
       "    </tr>\n",
       "    <tr>\n",
       "      <th>1</th>\n",
       "      <td>2</td>\n",
       "      <td>151.0</td>\n",
       "      <td>243.0</td>\n",
       "      <td>3.56</td>\n",
       "      <td>0.5</td>\n",
       "      <td>4.64</td>\n",
       "      <td>1.0</td>\n",
       "      <td>0.0</td>\n",
       "      <td>1.0</td>\n",
       "      <td>1.0</td>\n",
       "      <td>1</td>\n",
       "      <td>0.3</td>\n",
       "      <td>21.36</td>\n",
       "    </tr>\n",
       "    <tr>\n",
       "      <th>2</th>\n",
       "      <td>2</td>\n",
       "      <td>68.0</td>\n",
       "      <td>90.0</td>\n",
       "      <td>1.5</td>\n",
       "      <td>0.5</td>\n",
       "      <td>1.29</td>\n",
       "      <td>2.0</td>\n",
       "      <td>0.0</td>\n",
       "      <td>1.0</td>\n",
       "      <td>1.0</td>\n",
       "      <td>0</td>\n",
       "      <td>0.3</td>\n",
       "      <td>8.8</td>\n",
       "    </tr>\n",
       "    <tr>\n",
       "      <th>3</th>\n",
       "      <td>2</td>\n",
       "      <td>142.0</td>\n",
       "      <td>234.0</td>\n",
       "      <td>1.5</td>\n",
       "      <td>0.5</td>\n",
       "      <td>2.74</td>\n",
       "      <td>1.0</td>\n",
       "      <td>0.0</td>\n",
       "      <td>1.0</td>\n",
       "      <td>1.0</td>\n",
       "      <td>0</td>\n",
       "      <td>0.3</td>\n",
       "      <td>14.8</td>\n",
       "    </tr>\n",
       "    <tr>\n",
       "      <th>4</th>\n",
       "      <td>2</td>\n",
       "      <td>238.0</td>\n",
       "      <td>238.0</td>\n",
       "      <td>0</td>\n",
       "      <td>0.5</td>\n",
       "      <td>0.45</td>\n",
       "      <td>6.0</td>\n",
       "      <td>0.0</td>\n",
       "      <td>2.0</td>\n",
       "      <td>1.0</td>\n",
       "      <td>0</td>\n",
       "      <td>0.3</td>\n",
       "      <td>4.8</td>\n",
       "    </tr>\n",
       "    <tr>\n",
       "      <th>...</th>\n",
       "      <td>...</td>\n",
       "      <td>...</td>\n",
       "      <td>...</td>\n",
       "      <td>...</td>\n",
       "      <td>...</td>\n",
       "      <td>...</td>\n",
       "      <td>...</td>\n",
       "      <td>...</td>\n",
       "      <td>...</td>\n",
       "      <td>...</td>\n",
       "      <td>...</td>\n",
       "      <td>...</td>\n",
       "      <td>...</td>\n",
       "    </tr>\n",
       "    <tr>\n",
       "      <th>1048570</th>\n",
       "      <td>1</td>\n",
       "      <td>48.0</td>\n",
       "      <td>50.0</td>\n",
       "      <td>1</td>\n",
       "      <td>0.5</td>\n",
       "      <td>1.40</td>\n",
       "      <td>1.0</td>\n",
       "      <td>0.0</td>\n",
       "      <td>1.0</td>\n",
       "      <td>1.0</td>\n",
       "      <td>0.5</td>\n",
       "      <td>0.3</td>\n",
       "      <td>9.8</td>\n",
       "    </tr>\n",
       "    <tr>\n",
       "      <th>1048571</th>\n",
       "      <td>1</td>\n",
       "      <td>237.0</td>\n",
       "      <td>166.0</td>\n",
       "      <td>0</td>\n",
       "      <td>0.5</td>\n",
       "      <td>3.60</td>\n",
       "      <td>1.0</td>\n",
       "      <td>0.0</td>\n",
       "      <td>2.0</td>\n",
       "      <td>1.0</td>\n",
       "      <td>0</td>\n",
       "      <td>0.3</td>\n",
       "      <td>18.3</td>\n",
       "    </tr>\n",
       "    <tr>\n",
       "      <th>1048572</th>\n",
       "      <td>1</td>\n",
       "      <td>164.0</td>\n",
       "      <td>90.0</td>\n",
       "      <td>2.35</td>\n",
       "      <td>0.5</td>\n",
       "      <td>1.70</td>\n",
       "      <td>1.0</td>\n",
       "      <td>0.0</td>\n",
       "      <td>1.0</td>\n",
       "      <td>1.0</td>\n",
       "      <td>0.5</td>\n",
       "      <td>0.3</td>\n",
       "      <td>14.15</td>\n",
       "    </tr>\n",
       "    <tr>\n",
       "      <th>1048573</th>\n",
       "      <td>2</td>\n",
       "      <td>264.0</td>\n",
       "      <td>264.0</td>\n",
       "      <td>0</td>\n",
       "      <td>0.5</td>\n",
       "      <td>1.80</td>\n",
       "      <td>4.0</td>\n",
       "      <td>0.0</td>\n",
       "      <td>2.0</td>\n",
       "      <td>1.0</td>\n",
       "      <td>1</td>\n",
       "      <td>0.3</td>\n",
       "      <td>11.8</td>\n",
       "    </tr>\n",
       "    <tr>\n",
       "      <th>1048574</th>\n",
       "      <td>1</td>\n",
       "      <td>74.0</td>\n",
       "      <td>74.0</td>\n",
       "      <td>0</td>\n",
       "      <td>0.5</td>\n",
       "      <td>0.30</td>\n",
       "      <td>1.0</td>\n",
       "      <td>0.0</td>\n",
       "      <td>2.0</td>\n",
       "      <td>1.0</td>\n",
       "      <td>0</td>\n",
       "      <td>0.3</td>\n",
       "      <td>4.8</td>\n",
       "    </tr>\n",
       "  </tbody>\n",
       "</table>\n",
       "<p>1048573 rows × 13 columns</p>\n",
       "</div>"
      ],
      "text/plain": [
       "        vendor+AF8-id  pickup+AF8-loc  drop+AF8-loc driver+AF8-tip  \\\n",
       "0                   1           170.0         233.0           1.83   \n",
       "1                   2           151.0         243.0           3.56   \n",
       "2                   2            68.0          90.0            1.5   \n",
       "3                   2           142.0         234.0            1.5   \n",
       "4                   2           238.0         238.0              0   \n",
       "...               ...             ...           ...            ...   \n",
       "1048570             1            48.0          50.0              1   \n",
       "1048571             1           237.0         166.0              0   \n",
       "1048572             1           164.0          90.0           2.35   \n",
       "1048573             2           264.0         264.0              0   \n",
       "1048574             1            74.0          74.0              0   \n",
       "\n",
       "        mta+AF8-tax  distance  num+AF8-passengers toll+AF8-amount  \\\n",
       "0               0.5      0.70                 1.0             0.0   \n",
       "1               0.5      4.64                 1.0             0.0   \n",
       "2               0.5      1.29                 2.0             0.0   \n",
       "3               0.5      2.74                 1.0             0.0   \n",
       "4               0.5      0.45                 6.0             0.0   \n",
       "...             ...       ...                 ...             ...   \n",
       "1048570         0.5      1.40                 1.0             0.0   \n",
       "1048571         0.5      3.60                 1.0             0.0   \n",
       "1048572         0.5      1.70                 1.0             0.0   \n",
       "1048573         0.5      1.80                 4.0             0.0   \n",
       "1048574         0.5      0.30                 1.0             0.0   \n",
       "\n",
       "         payment+AF8-method  rate+AF8-code extra+AF8-charges  \\\n",
       "0                       1.0            1.0                 1   \n",
       "1                       1.0            1.0                 1   \n",
       "2                       1.0            1.0                 0   \n",
       "3                       1.0            1.0                 0   \n",
       "4                       2.0            1.0                 0   \n",
       "...                     ...            ...               ...   \n",
       "1048570                 1.0            1.0               0.5   \n",
       "1048571                 2.0            1.0                 0   \n",
       "1048572                 1.0            1.0               0.5   \n",
       "1048573                 2.0            1.0                 1   \n",
       "1048574                 2.0            1.0                 0   \n",
       "\n",
       "        improvement+AF8-charge total+AF8-amount  \n",
       "0                          0.3             9.13  \n",
       "1                          0.3            21.36  \n",
       "2                          0.3              8.8  \n",
       "3                          0.3             14.8  \n",
       "4                          0.3              4.8  \n",
       "...                        ...              ...  \n",
       "1048570                    0.3              9.8  \n",
       "1048571                    0.3             18.3  \n",
       "1048572                    0.3            14.15  \n",
       "1048573                    0.3             11.8  \n",
       "1048574                    0.3              4.8  \n",
       "\n",
       "[1048573 rows x 13 columns]"
      ]
     },
     "execution_count": 9,
     "metadata": {},
     "output_type": "execute_result"
    }
   ],
   "source": [
    "df"
   ]
  },
  {
   "cell_type": "code",
   "execution_count": 10,
   "metadata": {},
   "outputs": [
    {
     "data": {
      "text/plain": [
       "Index(['vendor+AF8-id', 'pickup+AF8-loc', 'drop+AF8-loc', 'driver+AF8-tip',\n",
       "       'mta+AF8-tax', 'distance', 'num+AF8-passengers', 'toll+AF8-amount',\n",
       "       'payment+AF8-method', 'rate+AF8-code', 'extra+AF8-charges',\n",
       "       'improvement+AF8-charge', 'total+AF8-amount'],\n",
       "      dtype='object')"
      ]
     },
     "execution_count": 10,
     "metadata": {},
     "output_type": "execute_result"
    }
   ],
   "source": [
    "df.columns"
   ]
  },
  {
   "cell_type": "code",
   "execution_count": 11,
   "metadata": {},
   "outputs": [],
   "source": [
    "df['vendor+AF8-id'] = pd.to_numeric(df['vendor+AF8-id'],errors = 'coerce')\n",
    "df['driver+AF8-tip'] = pd.to_numeric(df['driver+AF8-tip'],errors = 'coerce')\n",
    "df['mta+AF8-tax'] = pd.to_numeric(df['mta+AF8-tax'],errors = 'coerce')\n",
    "df['toll+AF8-amount'] = pd.to_numeric(df['toll+AF8-amount'],errors = 'coerce')\n",
    "df['extra+AF8-charges'] = pd.to_numeric(df['extra+AF8-charges'],errors = 'coerce')\n",
    "df['improvement+AF8-charge'] = pd.to_numeric(df['improvement+AF8-charge'],errors = 'coerce')\n",
    "df['total+AF8-amount'] = pd.to_numeric(df['total+AF8-amount'],errors = 'coerce')"
   ]
  },
  {
   "cell_type": "code",
   "execution_count": 12,
   "metadata": {},
   "outputs": [
    {
     "name": "stdout",
     "output_type": "stream",
     "text": [
      "<class 'pandas.core.frame.DataFrame'>\n",
      "Int64Index: 1048573 entries, 0 to 1048574\n",
      "Data columns (total 13 columns):\n",
      " #   Column                  Non-Null Count    Dtype  \n",
      "---  ------                  --------------    -----  \n",
      " 0   vendor+AF8-id           1048573 non-null  int64  \n",
      " 1   pickup+AF8-loc          1048573 non-null  float64\n",
      " 2   drop+AF8-loc            1048573 non-null  float64\n",
      " 3   driver+AF8-tip          1048561 non-null  float64\n",
      " 4   mta+AF8-tax             1048068 non-null  float64\n",
      " 5   distance                1048573 non-null  float64\n",
      " 6   num+AF8-passengers      1048573 non-null  float64\n",
      " 7   toll+AF8-amount         1048571 non-null  float64\n",
      " 8   payment+AF8-method      1048573 non-null  float64\n",
      " 9   rate+AF8-code           1048573 non-null  float64\n",
      " 10  extra+AF8-charges       1048349 non-null  float64\n",
      " 11  improvement+AF8-charge  1048052 non-null  float64\n",
      " 12  total+AF8-amount        1048052 non-null  float64\n",
      "dtypes: float64(12), int64(1)\n",
      "memory usage: 112.0 MB\n"
     ]
    }
   ],
   "source": [
    "df.info()"
   ]
  },
  {
   "cell_type": "code",
   "execution_count": 13,
   "metadata": {},
   "outputs": [],
   "source": [
    "df = df.dropna()"
   ]
  },
  {
   "cell_type": "code",
   "execution_count": 14,
   "metadata": {},
   "outputs": [
    {
     "data": {
      "text/plain": [
       "1048052"
      ]
     },
     "execution_count": 14,
     "metadata": {},
     "output_type": "execute_result"
    }
   ],
   "source": [
    "len(df)"
   ]
  },
  {
   "cell_type": "code",
   "execution_count": 15,
   "metadata": {},
   "outputs": [
    {
     "data": {
      "text/plain": [
       "<AxesSubplot:xlabel='total+AF8-amount'>"
      ]
     },
     "execution_count": 15,
     "metadata": {},
     "output_type": "execute_result"
    },
    {
     "data": {
      "image/png": "[encoded data removed]",
      "text/plain": [
       "<Figure size 432x288 with 1 Axes>"
      ]
     },
     "metadata": {
      "needs_background": "light"
     },
     "output_type": "display_data"
    }
   ],
   "source": [
    "sns.rugplot(x='total+AF8-amount',data=df,height=0.5)"
   ]
  },
  {
   "cell_type": "code",
   "execution_count": 16,
   "metadata": {},
   "outputs": [],
   "source": [
    "dropping = df[(df['distance']==0)&(df['total+AF8-amount']>0)].index"
   ]
  },
  {
   "cell_type": "code",
   "execution_count": 17,
   "metadata": {},
   "outputs": [
    {
     "name": "stderr",
     "output_type": "stream",
     "text": [
      "C:\\Users\\divik\\AppData\\Local\\Temp\\ipykernel_23740\\1060809836.py:1: SettingWithCopyWarning: \n",
      "A value is trying to be set on a copy of a slice from a DataFrame\n",
      "\n",
      "See the caveats in the documentation: https://pandas.pydata.org/pandas-docs/stable/user_guide/indexing.html#returning-a-view-versus-a-copy\n",
      "  df.drop(dropping,axis=0,inplace=True)\n"
     ]
    }
   ],
   "source": [
    "df.drop(dropping,axis=0,inplace=True)"
   ]
  },
  {
   "cell_type": "code",
   "execution_count": 18,
   "metadata": {},
   "outputs": [
    {
     "data": {
      "text/plain": [
       "<AxesSubplot:xlabel='total+AF8-amount'>"
      ]
     },
     "execution_count": 18,
     "metadata": {},
     "output_type": "execute_result"
    },
    {
     "data": {
      "image/png": "[encoded data removed]",
      "text/plain": [
       "<Figure size 432x288 with 1 Axes>"
      ]
     },
     "metadata": {
      "needs_background": "light"
     },
     "output_type": "display_data"
    }
   ],
   "source": [
    "sns.rugplot(x='total+AF8-amount',data=df,height=0.5)"
   ]
  },
  {
   "cell_type": "code",
   "execution_count": 22,
   "metadata": {},
   "outputs": [
    {
     "data": {
      "text/plain": [
       "13"
      ]
     },
     "execution_count": 22,
     "metadata": {},
     "output_type": "execute_result"
    }
   ],
   "source": [
    "len(df.columns)"
   ]
  },
  {
   "cell_type": "code",
   "execution_count": 23,
   "metadata": {},
   "outputs": [
    {
     "data": {
      "text/plain": [
       "mta+AF8-tax              -0.306326\n",
       "payment+AF8-method       -0.136712\n",
       "drop+AF8-loc             -0.095929\n",
       "pickup+AF8-loc           -0.079123\n",
       "num+AF8-passengers        0.013390\n",
       "vendor+AF8-id             0.015210\n",
       "improvement+AF8-charge    0.015705\n",
       "extra+AF8-charges         0.122015\n",
       "rate+AF8-code             0.437156\n",
       "toll+AF8-amount           0.585125\n",
       "driver+AF8-tip            0.724645\n",
       "distance                  0.929369\n",
       "total+AF8-amount          1.000000\n",
       "Name: total+AF8-amount, dtype: float64"
      ]
     },
     "execution_count": 23,
     "metadata": {},
     "output_type": "execute_result"
    }
   ],
   "source": [
    "df.corr()['total+AF8-amount'].sort_values()"
   ]
  },
  {
   "cell_type": "code",
   "execution_count": 24,
   "metadata": {},
   "outputs": [
    {
     "data": {
      "text/plain": [
       "Index(['vendor+AF8-id', 'pickup+AF8-loc', 'drop+AF8-loc', 'driver+AF8-tip',\n",
       "       'mta+AF8-tax', 'distance', 'num+AF8-passengers', 'toll+AF8-amount',\n",
       "       'payment+AF8-method', 'rate+AF8-code', 'extra+AF8-charges',\n",
       "       'improvement+AF8-charge', 'total+AF8-amount'],\n",
       "      dtype='object')"
      ]
     },
     "execution_count": 24,
     "metadata": {},
     "output_type": "execute_result"
    }
   ],
   "source": [
    "df.columns"
   ]
  },
  {
   "cell_type": "code",
   "execution_count": 25,
   "metadata": {},
   "outputs": [
    {
     "data": {
      "text/plain": [
       "<AxesSubplot:xlabel='payment+AF8-method', ylabel='count'>"
      ]
     },
     "execution_count": 25,
     "metadata": {},
     "output_type": "execute_result"
    },
    {
     "data": {
      "image/png": "[encoded data removed]",
      "text/plain": [
       "<Figure size 432x288 with 1 Axes>"
      ]
     },
     "metadata": {
      "needs_background": "light"
     },
     "output_type": "display_data"
    }
   ],
   "source": [
    "sns.countplot(x='payment+AF8-method',data=df)"
   ]
  },
  {
   "cell_type": "code",
   "execution_count": 26,
   "metadata": {},
   "outputs": [
    {
     "data": {
      "text/plain": [
       "<AxesSubplot:xlabel='rate+AF8-code', ylabel='count'>"
      ]
     },
     "execution_count": 26,
     "metadata": {},
     "output_type": "execute_result"
    },
    {
     "data": {
      "image/png": "[encoded data removed]",
      "text/plain": [
       "<Figure size 432x288 with 1 Axes>"
      ]
     },
     "metadata": {
      "needs_background": "light"
     },
     "output_type": "display_data"
    }
   ],
   "source": [
    "sns.countplot(x='rate+AF8-code',data=df)"
   ]
  },
  {
   "cell_type": "code",
   "execution_count": 27,
   "metadata": {},
   "outputs": [],
   "source": [
    "X = df.drop('total+AF8-amount',axis=1)\n",
    "y = df['total+AF8-amount']"
   ]
  },
  {
   "cell_type": "code",
   "execution_count": 28,
   "metadata": {},
   "outputs": [
    {
     "data": {
      "text/html": [
       "<div>\n",
       "<style scoped>\n",
       "    .dataframe tbody tr th:only-of-type {\n",
       "        vertical-align: middle;\n",
       "    }\n",
       "\n",
       "    .dataframe tbody tr th {\n",
       "        vertical-align: top;\n",
       "    }\n",
       "\n",
       "    .dataframe thead th {\n",
       "        text-align: right;\n",
       "    }\n",
       "</style>\n",
       "<table border=\"1\" class=\"dataframe\">\n",
       "  <thead>\n",
       "    <tr style=\"text-align: right;\">\n",
       "      <th></th>\n",
       "      <th>vendor+AF8-id</th>\n",
       "      <th>pickup+AF8-loc</th>\n",
       "      <th>drop+AF8-loc</th>\n",
       "      <th>driver+AF8-tip</th>\n",
       "      <th>mta+AF8-tax</th>\n",
       "      <th>distance</th>\n",
       "      <th>num+AF8-passengers</th>\n",
       "      <th>toll+AF8-amount</th>\n",
       "      <th>payment+AF8-method</th>\n",
       "      <th>rate+AF8-code</th>\n",
       "      <th>extra+AF8-charges</th>\n",
       "      <th>improvement+AF8-charge</th>\n",
       "    </tr>\n",
       "  </thead>\n",
       "  <tbody>\n",
       "    <tr>\n",
       "      <th>0</th>\n",
       "      <td>1</td>\n",
       "      <td>170.0</td>\n",
       "      <td>233.0</td>\n",
       "      <td>1.83</td>\n",
       "      <td>0.5</td>\n",
       "      <td>0.70</td>\n",
       "      <td>1.0</td>\n",
       "      <td>0.0</td>\n",
       "      <td>1.0</td>\n",
       "      <td>1.0</td>\n",
       "      <td>1.0</td>\n",
       "      <td>0.3</td>\n",
       "    </tr>\n",
       "    <tr>\n",
       "      <th>1</th>\n",
       "      <td>2</td>\n",
       "      <td>151.0</td>\n",
       "      <td>243.0</td>\n",
       "      <td>3.56</td>\n",
       "      <td>0.5</td>\n",
       "      <td>4.64</td>\n",
       "      <td>1.0</td>\n",
       "      <td>0.0</td>\n",
       "      <td>1.0</td>\n",
       "      <td>1.0</td>\n",
       "      <td>1.0</td>\n",
       "      <td>0.3</td>\n",
       "    </tr>\n",
       "    <tr>\n",
       "      <th>2</th>\n",
       "      <td>2</td>\n",
       "      <td>68.0</td>\n",
       "      <td>90.0</td>\n",
       "      <td>1.50</td>\n",
       "      <td>0.5</td>\n",
       "      <td>1.29</td>\n",
       "      <td>2.0</td>\n",
       "      <td>0.0</td>\n",
       "      <td>1.0</td>\n",
       "      <td>1.0</td>\n",
       "      <td>0.0</td>\n",
       "      <td>0.3</td>\n",
       "    </tr>\n",
       "    <tr>\n",
       "      <th>3</th>\n",
       "      <td>2</td>\n",
       "      <td>142.0</td>\n",
       "      <td>234.0</td>\n",
       "      <td>1.50</td>\n",
       "      <td>0.5</td>\n",
       "      <td>2.74</td>\n",
       "      <td>1.0</td>\n",
       "      <td>0.0</td>\n",
       "      <td>1.0</td>\n",
       "      <td>1.0</td>\n",
       "      <td>0.0</td>\n",
       "      <td>0.3</td>\n",
       "    </tr>\n",
       "    <tr>\n",
       "      <th>4</th>\n",
       "      <td>2</td>\n",
       "      <td>238.0</td>\n",
       "      <td>238.0</td>\n",
       "      <td>0.00</td>\n",
       "      <td>0.5</td>\n",
       "      <td>0.45</td>\n",
       "      <td>6.0</td>\n",
       "      <td>0.0</td>\n",
       "      <td>2.0</td>\n",
       "      <td>1.0</td>\n",
       "      <td>0.0</td>\n",
       "      <td>0.3</td>\n",
       "    </tr>\n",
       "    <tr>\n",
       "      <th>...</th>\n",
       "      <td>...</td>\n",
       "      <td>...</td>\n",
       "      <td>...</td>\n",
       "      <td>...</td>\n",
       "      <td>...</td>\n",
       "      <td>...</td>\n",
       "      <td>...</td>\n",
       "      <td>...</td>\n",
       "      <td>...</td>\n",
       "      <td>...</td>\n",
       "      <td>...</td>\n",
       "      <td>...</td>\n",
       "    </tr>\n",
       "    <tr>\n",
       "      <th>1048570</th>\n",
       "      <td>1</td>\n",
       "      <td>48.0</td>\n",
       "      <td>50.0</td>\n",
       "      <td>1.00</td>\n",
       "      <td>0.5</td>\n",
       "      <td>1.40</td>\n",
       "      <td>1.0</td>\n",
       "      <td>0.0</td>\n",
       "      <td>1.0</td>\n",
       "      <td>1.0</td>\n",
       "      <td>0.5</td>\n",
       "      <td>0.3</td>\n",
       "    </tr>\n",
       "    <tr>\n",
       "      <th>1048571</th>\n",
       "      <td>1</td>\n",
       "      <td>237.0</td>\n",
       "      <td>166.0</td>\n",
       "      <td>0.00</td>\n",
       "      <td>0.5</td>\n",
       "      <td>3.60</td>\n",
       "      <td>1.0</td>\n",
       "      <td>0.0</td>\n",
       "      <td>2.0</td>\n",
       "      <td>1.0</td>\n",
       "      <td>0.0</td>\n",
       "      <td>0.3</td>\n",
       "    </tr>\n",
       "    <tr>\n",
       "      <th>1048572</th>\n",
       "      <td>1</td>\n",
       "      <td>164.0</td>\n",
       "      <td>90.0</td>\n",
       "      <td>2.35</td>\n",
       "      <td>0.5</td>\n",
       "      <td>1.70</td>\n",
       "      <td>1.0</td>\n",
       "      <td>0.0</td>\n",
       "      <td>1.0</td>\n",
       "      <td>1.0</td>\n",
       "      <td>0.5</td>\n",
       "      <td>0.3</td>\n",
       "    </tr>\n",
       "    <tr>\n",
       "      <th>1048573</th>\n",
       "      <td>2</td>\n",
       "      <td>264.0</td>\n",
       "      <td>264.0</td>\n",
       "      <td>0.00</td>\n",
       "      <td>0.5</td>\n",
       "      <td>1.80</td>\n",
       "      <td>4.0</td>\n",
       "      <td>0.0</td>\n",
       "      <td>2.0</td>\n",
       "      <td>1.0</td>\n",
       "      <td>1.0</td>\n",
       "      <td>0.3</td>\n",
       "    </tr>\n",
       "    <tr>\n",
       "      <th>1048574</th>\n",
       "      <td>1</td>\n",
       "      <td>74.0</td>\n",
       "      <td>74.0</td>\n",
       "      <td>0.00</td>\n",
       "      <td>0.5</td>\n",
       "      <td>0.30</td>\n",
       "      <td>1.0</td>\n",
       "      <td>0.0</td>\n",
       "      <td>2.0</td>\n",
       "      <td>1.0</td>\n",
       "      <td>0.0</td>\n",
       "      <td>0.3</td>\n",
       "    </tr>\n",
       "  </tbody>\n",
       "</table>\n",
       "<p>1041482 rows × 12 columns</p>\n",
       "</div>"
      ],
      "text/plain": [
       "         vendor+AF8-id  pickup+AF8-loc  drop+AF8-loc  driver+AF8-tip  \\\n",
       "0                    1           170.0         233.0            1.83   \n",
       "1                    2           151.0         243.0            3.56   \n",
       "2                    2            68.0          90.0            1.50   \n",
       "3                    2           142.0         234.0            1.50   \n",
       "4                    2           238.0         238.0            0.00   \n",
       "...                ...             ...           ...             ...   \n",
       "1048570              1            48.0          50.0            1.00   \n",
       "1048571              1           237.0         166.0            0.00   \n",
       "1048572              1           164.0          90.0            2.35   \n",
       "1048573              2           264.0         264.0            0.00   \n",
       "1048574              1            74.0          74.0            0.00   \n",
       "\n",
       "         mta+AF8-tax  distance  num+AF8-passengers  toll+AF8-amount  \\\n",
       "0                0.5      0.70                 1.0              0.0   \n",
       "1                0.5      4.64                 1.0              0.0   \n",
       "2                0.5      1.29                 2.0              0.0   \n",
       "3                0.5      2.74                 1.0              0.0   \n",
       "4                0.5      0.45                 6.0              0.0   \n",
       "...              ...       ...                 ...              ...   \n",
       "1048570          0.5      1.40                 1.0              0.0   \n",
       "1048571          0.5      3.60                 1.0              0.0   \n",
       "1048572          0.5      1.70                 1.0              0.0   \n",
       "1048573          0.5      1.80                 4.0              0.0   \n",
       "1048574          0.5      0.30                 1.0              0.0   \n",
       "\n",
       "         payment+AF8-method  rate+AF8-code  extra+AF8-charges  \\\n",
       "0                       1.0            1.0                1.0   \n",
       "1                       1.0            1.0                1.0   \n",
       "2                       1.0            1.0                0.0   \n",
       "3                       1.0            1.0                0.0   \n",
       "4                       2.0            1.0                0.0   \n",
       "...                     ...            ...                ...   \n",
       "1048570                 1.0            1.0                0.5   \n",
       "1048571                 2.0            1.0                0.0   \n",
       "1048572                 1.0            1.0                0.5   \n",
       "1048573                 2.0            1.0                1.0   \n",
       "1048574                 2.0            1.0                0.0   \n",
       "\n",
       "         improvement+AF8-charge  \n",
       "0                           0.3  \n",
       "1                           0.3  \n",
       "2                           0.3  \n",
       "3                           0.3  \n",
       "4                           0.3  \n",
       "...                         ...  \n",
       "1048570                     0.3  \n",
       "1048571                     0.3  \n",
       "1048572                     0.3  \n",
       "1048573                     0.3  \n",
       "1048574                     0.3  \n",
       "\n",
       "[1041482 rows x 12 columns]"
      ]
     },
     "execution_count": 28,
     "metadata": {},
     "output_type": "execute_result"
    }
   ],
   "source": [
    "X"
   ]
  },
  {
   "cell_type": "code",
   "execution_count": 29,
   "metadata": {},
   "outputs": [
    {
     "data": {
      "text/plain": [
       "0           9.13\n",
       "1          21.36\n",
       "2           8.80\n",
       "3          14.80\n",
       "4           4.80\n",
       "           ...  \n",
       "1048570     9.80\n",
       "1048571    18.30\n",
       "1048572    14.15\n",
       "1048573    11.80\n",
       "1048574     4.80\n",
       "Name: total+AF8-amount, Length: 1041482, dtype: float64"
      ]
     },
     "execution_count": 29,
     "metadata": {},
     "output_type": "execute_result"
    }
   ],
   "source": [
    "y"
   ]
  },
  {
   "cell_type": "code",
   "execution_count": 30,
   "metadata": {},
   "outputs": [],
   "source": [
    "from sklearn.ensemble import RandomForestRegressor"
   ]
  },
  {
   "cell_type": "code",
   "execution_count": 31,
   "metadata": {},
   "outputs": [],
   "source": [
    "model = RandomForestRegressor(n_estimators=40)"
   ]
  },
  {
   "cell_type": "code",
   "execution_count": null,
   "metadata": {},
   "outputs": [],
   "source": [
    "model.fit(X,y)"
   ]
  },
  {
   "cell_type": "code",
   "execution_count": null,
   "metadata": {},
   "outputs": [],
   "source": [
    "df_test = pd.read_csv('chh-ola\\\\test.csv')"
   ]
  },
  {
   "cell_type": "code",
   "execution_count": null,
   "metadata": {},
   "outputs": [],
   "source": []
  },
  {
   "cell_type": "code",
   "execution_count": null,
   "metadata": {},
   "outputs": [],
   "source": [
    "# df_test.drop(['ID','pickup+AF8-time','drop+AF8-time','stored+AF8-flag'],axis=1,inplace=True)"
   ]
  },
  {
   "cell_type": "code",
   "execution_count": null,
   "metadata": {},
   "outputs": [],
   "source": [
    "# prediction = model.predict(df_test)"
   ]
  },
  {
   "cell_type": "code",
   "execution_count": null,
   "metadata": {},
   "outputs": [],
   "source": []
  }
 ],
 "metadata": {
  "kernelspec": {
   "display_name": "Python 3 (ipykernel)",
   "language": "python",
   "name": "python3"
  },
  "language_info": {
   "codemirror_mode": {
    "name": "ipython",
    "version": 3
   },
   "file_extension": ".py",
   "mimetype": "text/x-python",
   "name": "python",
   "nbconvert_exporter": "python",
   "pygments_lexer": "ipython3",
   "version": "3.9.12"
  },
  "vscode": {
   "interpreter": {
    "hash": "a2abd47540d79ed017d58b2814c99371760a05027a4637b535e37e6d333f8ef3"
   }
  }
 },
 "nbformat": 4,
 "nbformat_minor": 2
}
