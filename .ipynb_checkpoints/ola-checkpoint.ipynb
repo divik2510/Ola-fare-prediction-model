{
 "cells": [
  {
   "cell_type": "code",
   "execution_count": 1,
   "metadata": {},
   "outputs": [],
   "source": [
    "import numpy as np\n",
    "import pandas as pd\n",
    "import matplotlib.pyplot as plt\n",
    "import seaborn as sns"
   ]
  },
  {
   "cell_type": "code",
   "execution_count": 2,
   "metadata": {},
   "outputs": [
    {
     "name": "stderr",
     "output_type": "stream",
     "text": [
      "C:\\Users\\divik\\AppData\\Local\\Temp\\ipykernel_5336\\2487704972.py:1: DtypeWarning: Columns (1,4,10) have mixed types. Specify dtype option on import or set low_memory=False.\n",
      "  df = pd.read_csv('chh-ola\\\\train.csv')\n"
     ]
    }
   ],
   "source": [
    "df = pd.read_csv('chh-ola\\\\train.csv')"
   ]
  },
  {
   "cell_type": "code",
   "execution_count": 4,
   "metadata": {},
   "outputs": [
    {
     "name": "stdout",
     "output_type": "stream",
     "text": [
      "<class 'pandas.core.frame.DataFrame'>\n",
      "RangeIndex: 1048575 entries, 0 to 1048574\n",
      "Data columns (total 17 columns):\n",
      " #   Column                  Non-Null Count    Dtype  \n",
      "---  ------                  --------------    -----  \n",
      " 0   ID                      1048575 non-null  int64  \n",
      " 1   vendor+AF8-id           1048575 non-null  object \n",
      " 2   pickup+AF8-loc          1048574 non-null  float64\n",
      " 3   drop+AF8-loc            1048574 non-null  float64\n",
      " 4   driver+AF8-tip          1048573 non-null  object \n",
      " 5   mta+AF8-tax             1048574 non-null  object \n",
      " 6   distance                1048574 non-null  float64\n",
      " 7   pickup+AF8-time         1048574 non-null  object \n",
      " 8   drop+AF8-time           1048574 non-null  object \n",
      " 9   num+AF8-passengers      1048574 non-null  float64\n",
      " 10  toll+AF8-amount         1048573 non-null  object \n",
      " 11  payment+AF8-method      1048574 non-null  float64\n",
      " 12  rate+AF8-code           1048574 non-null  float64\n",
      " 13  stored+AF8-flag         1048574 non-null  object \n",
      " 14  extra+AF8-charges       1048574 non-null  object \n",
      " 15  improvement+AF8-charge  1048573 non-null  object \n",
      " 16  total+AF8-amount        1048573 non-null  object \n",
      "dtypes: float64(6), int64(1), object(10)\n",
      "memory usage: 136.0+ MB\n"
     ]
    }
   ],
   "source": [
    "df.info()"
   ]
  },
  {
   "cell_type": "code",
   "execution_count": 5,
   "metadata": {},
   "outputs": [
    {
     "data": {
      "text/html": [
       "<div>\n",
       "<style scoped>\n",
       "    .dataframe tbody tr th:only-of-type {\n",
       "        vertical-align: middle;\n",
       "    }\n",
       "\n",
       "    .dataframe tbody tr th {\n",
       "        vertical-align: top;\n",
       "    }\n",
       "\n",
       "    .dataframe thead th {\n",
       "        text-align: right;\n",
       "    }\n",
       "</style>\n",
       "<table border=\"1\" class=\"dataframe\">\n",
       "  <thead>\n",
       "    <tr style=\"text-align: right;\">\n",
       "      <th></th>\n",
       "      <th>ID</th>\n",
       "      <th>pickup+AF8-loc</th>\n",
       "      <th>drop+AF8-loc</th>\n",
       "      <th>distance</th>\n",
       "      <th>num+AF8-passengers</th>\n",
       "      <th>payment+AF8-method</th>\n",
       "      <th>rate+AF8-code</th>\n",
       "    </tr>\n",
       "  </thead>\n",
       "  <tbody>\n",
       "    <tr>\n",
       "      <th>count</th>\n",
       "      <td>1.048575e+06</td>\n",
       "      <td>1.048574e+06</td>\n",
       "      <td>1.048574e+06</td>\n",
       "      <td>1.048574e+06</td>\n",
       "      <td>1.048574e+06</td>\n",
       "      <td>1.048574e+06</td>\n",
       "      <td>1.048574e+06</td>\n",
       "    </tr>\n",
       "    <tr>\n",
       "      <th>mean</th>\n",
       "      <td>5.242870e+05</td>\n",
       "      <td>1.648085e+02</td>\n",
       "      <td>1.626675e+02</td>\n",
       "      <td>2.859832e+00</td>\n",
       "      <td>1.590696e+00</td>\n",
       "      <td>1.317943e+00</td>\n",
       "      <td>1.043368e+00</td>\n",
       "    </tr>\n",
       "    <tr>\n",
       "      <th>std</th>\n",
       "      <td>3.026977e+05</td>\n",
       "      <td>6.579282e+01</td>\n",
       "      <td>6.953073e+01</td>\n",
       "      <td>3.709541e+00</td>\n",
       "      <td>1.253700e+00</td>\n",
       "      <td>4.853266e-01</td>\n",
       "      <td>5.621114e-01</td>\n",
       "    </tr>\n",
       "    <tr>\n",
       "      <th>min</th>\n",
       "      <td>0.000000e+00</td>\n",
       "      <td>1.000000e+00</td>\n",
       "      <td>1.000000e+00</td>\n",
       "      <td>0.000000e+00</td>\n",
       "      <td>0.000000e+00</td>\n",
       "      <td>1.000000e+00</td>\n",
       "      <td>1.000000e+00</td>\n",
       "    </tr>\n",
       "    <tr>\n",
       "      <th>25%</th>\n",
       "      <td>2.621435e+05</td>\n",
       "      <td>1.250000e+02</td>\n",
       "      <td>1.130000e+02</td>\n",
       "      <td>9.300000e-01</td>\n",
       "      <td>1.000000e+00</td>\n",
       "      <td>1.000000e+00</td>\n",
       "      <td>1.000000e+00</td>\n",
       "    </tr>\n",
       "    <tr>\n",
       "      <th>50%</th>\n",
       "      <td>5.242870e+05</td>\n",
       "      <td>1.620000e+02</td>\n",
       "      <td>1.620000e+02</td>\n",
       "      <td>1.600000e+00</td>\n",
       "      <td>1.000000e+00</td>\n",
       "      <td>1.000000e+00</td>\n",
       "      <td>1.000000e+00</td>\n",
       "    </tr>\n",
       "    <tr>\n",
       "      <th>75%</th>\n",
       "      <td>7.864305e+05</td>\n",
       "      <td>2.330000e+02</td>\n",
       "      <td>2.330000e+02</td>\n",
       "      <td>2.900000e+00</td>\n",
       "      <td>2.000000e+00</td>\n",
       "      <td>2.000000e+00</td>\n",
       "      <td>1.000000e+00</td>\n",
       "    </tr>\n",
       "    <tr>\n",
       "      <th>max</th>\n",
       "      <td>1.048574e+06</td>\n",
       "      <td>2.650000e+02</td>\n",
       "      <td>2.650000e+02</td>\n",
       "      <td>1.138000e+02</td>\n",
       "      <td>9.000000e+00</td>\n",
       "      <td>4.000000e+00</td>\n",
       "      <td>9.900000e+01</td>\n",
       "    </tr>\n",
       "  </tbody>\n",
       "</table>\n",
       "</div>"
      ],
      "text/plain": [
       "                 ID  pickup+AF8-loc  drop+AF8-loc      distance  \\\n",
       "count  1.048575e+06    1.048574e+06  1.048574e+06  1.048574e+06   \n",
       "mean   5.242870e+05    1.648085e+02  1.626675e+02  2.859832e+00   \n",
       "std    3.026977e+05    6.579282e+01  6.953073e+01  3.709541e+00   \n",
       "min    0.000000e+00    1.000000e+00  1.000000e+00  0.000000e+00   \n",
       "25%    2.621435e+05    1.250000e+02  1.130000e+02  9.300000e-01   \n",
       "50%    5.242870e+05    1.620000e+02  1.620000e+02  1.600000e+00   \n",
       "75%    7.864305e+05    2.330000e+02  2.330000e+02  2.900000e+00   \n",
       "max    1.048574e+06    2.650000e+02  2.650000e+02  1.138000e+02   \n",
       "\n",
       "       num+AF8-passengers  payment+AF8-method  rate+AF8-code  \n",
       "count        1.048574e+06        1.048574e+06   1.048574e+06  \n",
       "mean         1.590696e+00        1.317943e+00   1.043368e+00  \n",
       "std          1.253700e+00        4.853266e-01   5.621114e-01  \n",
       "min          0.000000e+00        1.000000e+00   1.000000e+00  \n",
       "25%          1.000000e+00        1.000000e+00   1.000000e+00  \n",
       "50%          1.000000e+00        1.000000e+00   1.000000e+00  \n",
       "75%          2.000000e+00        2.000000e+00   1.000000e+00  \n",
       "max          9.000000e+00        4.000000e+00   9.900000e+01  "
      ]
     },
     "execution_count": 5,
     "metadata": {},
     "output_type": "execute_result"
    }
   ],
   "source": [
    "df.describe()"
   ]
  },
  {
   "cell_type": "code",
   "execution_count": 6,
   "metadata": {},
   "outputs": [],
   "source": [
    "df = df.dropna()"
   ]
  },
  {
   "cell_type": "code",
   "execution_count": 7,
   "metadata": {},
   "outputs": [
    {
     "data": {
      "text/plain": [
       "1048573"
      ]
     },
     "execution_count": 7,
     "metadata": {},
     "output_type": "execute_result"
    }
   ],
   "source": [
    "len(df)"
   ]
  },
  {
   "cell_type": "code",
   "execution_count": 8,
   "metadata": {},
   "outputs": [
    {
     "data": {
      "text/html": [
       "<div>\n",
       "<style scoped>\n",
       "    .dataframe tbody tr th:only-of-type {\n",
       "        vertical-align: middle;\n",
       "    }\n",
       "\n",
       "    .dataframe tbody tr th {\n",
       "        vertical-align: top;\n",
       "    }\n",
       "\n",
       "    .dataframe thead th {\n",
       "        text-align: right;\n",
       "    }\n",
       "</style>\n",
       "<table border=\"1\" class=\"dataframe\">\n",
       "  <thead>\n",
       "    <tr style=\"text-align: right;\">\n",
       "      <th></th>\n",
       "      <th>ID</th>\n",
       "      <th>pickup+AF8-loc</th>\n",
       "      <th>drop+AF8-loc</th>\n",
       "      <th>distance</th>\n",
       "      <th>num+AF8-passengers</th>\n",
       "      <th>payment+AF8-method</th>\n",
       "      <th>rate+AF8-code</th>\n",
       "    </tr>\n",
       "  </thead>\n",
       "  <tbody>\n",
       "    <tr>\n",
       "      <th>ID</th>\n",
       "      <td>1.000000</td>\n",
       "      <td>-0.000423</td>\n",
       "      <td>-0.001101</td>\n",
       "      <td>0.001506</td>\n",
       "      <td>0.000272</td>\n",
       "      <td>-0.000107</td>\n",
       "      <td>0.000334</td>\n",
       "    </tr>\n",
       "    <tr>\n",
       "      <th>pickup+AF8-loc</th>\n",
       "      <td>-0.000423</td>\n",
       "      <td>1.000000</td>\n",
       "      <td>0.111652</td>\n",
       "      <td>-0.091637</td>\n",
       "      <td>-0.006588</td>\n",
       "      <td>-0.008939</td>\n",
       "      <td>-0.004960</td>\n",
       "    </tr>\n",
       "    <tr>\n",
       "      <th>drop+AF8-loc</th>\n",
       "      <td>-0.001101</td>\n",
       "      <td>0.111652</td>\n",
       "      <td>1.000000</td>\n",
       "      <td>-0.104494</td>\n",
       "      <td>-0.005072</td>\n",
       "      <td>-0.005919</td>\n",
       "      <td>0.000029</td>\n",
       "    </tr>\n",
       "    <tr>\n",
       "      <th>distance</th>\n",
       "      <td>0.001506</td>\n",
       "      <td>-0.091637</td>\n",
       "      <td>-0.104494</td>\n",
       "      <td>1.000000</td>\n",
       "      <td>0.018222</td>\n",
       "      <td>-0.053355</td>\n",
       "      <td>0.215275</td>\n",
       "    </tr>\n",
       "    <tr>\n",
       "      <th>num+AF8-passengers</th>\n",
       "      <td>0.000272</td>\n",
       "      <td>-0.006588</td>\n",
       "      <td>-0.005072</td>\n",
       "      <td>0.018222</td>\n",
       "      <td>1.000000</td>\n",
       "      <td>0.009633</td>\n",
       "      <td>-0.005544</td>\n",
       "    </tr>\n",
       "    <tr>\n",
       "      <th>payment+AF8-method</th>\n",
       "      <td>-0.000107</td>\n",
       "      <td>-0.008939</td>\n",
       "      <td>-0.005919</td>\n",
       "      <td>-0.053355</td>\n",
       "      <td>0.009633</td>\n",
       "      <td>1.000000</td>\n",
       "      <td>-0.000652</td>\n",
       "    </tr>\n",
       "    <tr>\n",
       "      <th>rate+AF8-code</th>\n",
       "      <td>0.000334</td>\n",
       "      <td>-0.004960</td>\n",
       "      <td>0.000029</td>\n",
       "      <td>0.215275</td>\n",
       "      <td>-0.005544</td>\n",
       "      <td>-0.000652</td>\n",
       "      <td>1.000000</td>\n",
       "    </tr>\n",
       "  </tbody>\n",
       "</table>\n",
       "</div>"
      ],
      "text/plain": [
       "                          ID  pickup+AF8-loc  drop+AF8-loc  distance  \\\n",
       "ID                  1.000000       -0.000423     -0.001101  0.001506   \n",
       "pickup+AF8-loc     -0.000423        1.000000      0.111652 -0.091637   \n",
       "drop+AF8-loc       -0.001101        0.111652      1.000000 -0.104494   \n",
       "distance            0.001506       -0.091637     -0.104494  1.000000   \n",
       "num+AF8-passengers  0.000272       -0.006588     -0.005072  0.018222   \n",
       "payment+AF8-method -0.000107       -0.008939     -0.005919 -0.053355   \n",
       "rate+AF8-code       0.000334       -0.004960      0.000029  0.215275   \n",
       "\n",
       "                    num+AF8-passengers  payment+AF8-method  rate+AF8-code  \n",
       "ID                            0.000272           -0.000107       0.000334  \n",
       "pickup+AF8-loc               -0.006588           -0.008939      -0.004960  \n",
       "drop+AF8-loc                 -0.005072           -0.005919       0.000029  \n",
       "distance                      0.018222           -0.053355       0.215275  \n",
       "num+AF8-passengers            1.000000            0.009633      -0.005544  \n",
       "payment+AF8-method            0.009633            1.000000      -0.000652  \n",
       "rate+AF8-code                -0.005544           -0.000652       1.000000  "
      ]
     },
     "execution_count": 8,
     "metadata": {},
     "output_type": "execute_result"
    }
   ],
   "source": [
    "df.corr()"
   ]
  },
  {
   "cell_type": "code",
   "execution_count": 9,
   "metadata": {},
   "outputs": [
    {
     "data": {
      "text/html": [
       "<div>\n",
       "<style scoped>\n",
       "    .dataframe tbody tr th:only-of-type {\n",
       "        vertical-align: middle;\n",
       "    }\n",
       "\n",
       "    .dataframe tbody tr th {\n",
       "        vertical-align: top;\n",
       "    }\n",
       "\n",
       "    .dataframe thead th {\n",
       "        text-align: right;\n",
       "    }\n",
       "</style>\n",
       "<table border=\"1\" class=\"dataframe\">\n",
       "  <thead>\n",
       "    <tr style=\"text-align: right;\">\n",
       "      <th></th>\n",
       "      <th>ID</th>\n",
       "      <th>vendor+AF8-id</th>\n",
       "      <th>pickup+AF8-loc</th>\n",
       "      <th>drop+AF8-loc</th>\n",
       "      <th>driver+AF8-tip</th>\n",
       "      <th>mta+AF8-tax</th>\n",
       "      <th>distance</th>\n",
       "      <th>pickup+AF8-time</th>\n",
       "      <th>drop+AF8-time</th>\n",
       "      <th>num+AF8-passengers</th>\n",
       "      <th>toll+AF8-amount</th>\n",
       "      <th>payment+AF8-method</th>\n",
       "      <th>rate+AF8-code</th>\n",
       "      <th>stored+AF8-flag</th>\n",
       "      <th>extra+AF8-charges</th>\n",
       "      <th>improvement+AF8-charge</th>\n",
       "      <th>total+AF8-amount</th>\n",
       "    </tr>\n",
       "  </thead>\n",
       "  <tbody>\n",
       "    <tr>\n",
       "      <th>0</th>\n",
       "      <td>0</td>\n",
       "      <td>1</td>\n",
       "      <td>170.0</td>\n",
       "      <td>233.0</td>\n",
       "      <td>1.83</td>\n",
       "      <td>0.5</td>\n",
       "      <td>0.70</td>\n",
       "      <td>04/04/2017 05:59:43 PM</td>\n",
       "      <td>04/04/2017 06:05:04 PM</td>\n",
       "      <td>1.0</td>\n",
       "      <td>0.0</td>\n",
       "      <td>1.0</td>\n",
       "      <td>1.0</td>\n",
       "      <td>N</td>\n",
       "      <td>1</td>\n",
       "      <td>0.3</td>\n",
       "      <td>9.13</td>\n",
       "    </tr>\n",
       "    <tr>\n",
       "      <th>1</th>\n",
       "      <td>1</td>\n",
       "      <td>2</td>\n",
       "      <td>151.0</td>\n",
       "      <td>243.0</td>\n",
       "      <td>3.56</td>\n",
       "      <td>0.5</td>\n",
       "      <td>4.64</td>\n",
       "      <td>04/03/2017 07:03:34 PM</td>\n",
       "      <td>04/03/2017 07:20:04 PM</td>\n",
       "      <td>1.0</td>\n",
       "      <td>0.0</td>\n",
       "      <td>1.0</td>\n",
       "      <td>1.0</td>\n",
       "      <td>N</td>\n",
       "      <td>1</td>\n",
       "      <td>0.3</td>\n",
       "      <td>21.36</td>\n",
       "    </tr>\n",
       "    <tr>\n",
       "      <th>2</th>\n",
       "      <td>2</td>\n",
       "      <td>2</td>\n",
       "      <td>68.0</td>\n",
       "      <td>90.0</td>\n",
       "      <td>1.5</td>\n",
       "      <td>0.5</td>\n",
       "      <td>1.29</td>\n",
       "      <td>04/03/2017 03:06:13 PM</td>\n",
       "      <td>04/03/2017 03:12:30 PM</td>\n",
       "      <td>2.0</td>\n",
       "      <td>0.0</td>\n",
       "      <td>1.0</td>\n",
       "      <td>1.0</td>\n",
       "      <td>N</td>\n",
       "      <td>0</td>\n",
       "      <td>0.3</td>\n",
       "      <td>8.8</td>\n",
       "    </tr>\n",
       "    <tr>\n",
       "      <th>3</th>\n",
       "      <td>3</td>\n",
       "      <td>2</td>\n",
       "      <td>142.0</td>\n",
       "      <td>234.0</td>\n",
       "      <td>1.5</td>\n",
       "      <td>0.5</td>\n",
       "      <td>2.74</td>\n",
       "      <td>04/04/2017 08:10:52 AM</td>\n",
       "      <td>04/04/2017 08:27:00 AM</td>\n",
       "      <td>1.0</td>\n",
       "      <td>0.0</td>\n",
       "      <td>1.0</td>\n",
       "      <td>1.0</td>\n",
       "      <td>N</td>\n",
       "      <td>0</td>\n",
       "      <td>0.3</td>\n",
       "      <td>14.8</td>\n",
       "    </tr>\n",
       "    <tr>\n",
       "      <th>4</th>\n",
       "      <td>4</td>\n",
       "      <td>2</td>\n",
       "      <td>238.0</td>\n",
       "      <td>238.0</td>\n",
       "      <td>0</td>\n",
       "      <td>0.5</td>\n",
       "      <td>0.45</td>\n",
       "      <td>04/05/2017 02:02:59 PM</td>\n",
       "      <td>04/05/2017 02:05:41 PM</td>\n",
       "      <td>6.0</td>\n",
       "      <td>0.0</td>\n",
       "      <td>2.0</td>\n",
       "      <td>1.0</td>\n",
       "      <td>N</td>\n",
       "      <td>0</td>\n",
       "      <td>0.3</td>\n",
       "      <td>4.8</td>\n",
       "    </tr>\n",
       "    <tr>\n",
       "      <th>...</th>\n",
       "      <td>...</td>\n",
       "      <td>...</td>\n",
       "      <td>...</td>\n",
       "      <td>...</td>\n",
       "      <td>...</td>\n",
       "      <td>...</td>\n",
       "      <td>...</td>\n",
       "      <td>...</td>\n",
       "      <td>...</td>\n",
       "      <td>...</td>\n",
       "      <td>...</td>\n",
       "      <td>...</td>\n",
       "      <td>...</td>\n",
       "      <td>...</td>\n",
       "      <td>...</td>\n",
       "      <td>...</td>\n",
       "      <td>...</td>\n",
       "    </tr>\n",
       "    <tr>\n",
       "      <th>1048570</th>\n",
       "      <td>1048570</td>\n",
       "      <td>1</td>\n",
       "      <td>48.0</td>\n",
       "      <td>50.0</td>\n",
       "      <td>1</td>\n",
       "      <td>0.5</td>\n",
       "      <td>1.40</td>\n",
       "      <td>04/06/2017 11:17:09 PM</td>\n",
       "      <td>04/06/2017 11:25:04 PM</td>\n",
       "      <td>1.0</td>\n",
       "      <td>0.0</td>\n",
       "      <td>1.0</td>\n",
       "      <td>1.0</td>\n",
       "      <td>N</td>\n",
       "      <td>0.5</td>\n",
       "      <td>0.3</td>\n",
       "      <td>9.8</td>\n",
       "    </tr>\n",
       "    <tr>\n",
       "      <th>1048571</th>\n",
       "      <td>1048571</td>\n",
       "      <td>1</td>\n",
       "      <td>237.0</td>\n",
       "      <td>166.0</td>\n",
       "      <td>0</td>\n",
       "      <td>0.5</td>\n",
       "      <td>3.60</td>\n",
       "      <td>04/06/2017 10:58:47 AM</td>\n",
       "      <td>04/06/2017 11:22:04 AM</td>\n",
       "      <td>1.0</td>\n",
       "      <td>0.0</td>\n",
       "      <td>2.0</td>\n",
       "      <td>1.0</td>\n",
       "      <td>N</td>\n",
       "      <td>0</td>\n",
       "      <td>0.3</td>\n",
       "      <td>18.3</td>\n",
       "    </tr>\n",
       "    <tr>\n",
       "      <th>1048572</th>\n",
       "      <td>1048572</td>\n",
       "      <td>1</td>\n",
       "      <td>164.0</td>\n",
       "      <td>90.0</td>\n",
       "      <td>2.35</td>\n",
       "      <td>0.5</td>\n",
       "      <td>1.70</td>\n",
       "      <td>04/06/2017 10:03:42 PM</td>\n",
       "      <td>04/06/2017 10:17:04 PM</td>\n",
       "      <td>1.0</td>\n",
       "      <td>0.0</td>\n",
       "      <td>1.0</td>\n",
       "      <td>1.0</td>\n",
       "      <td>N</td>\n",
       "      <td>0.5</td>\n",
       "      <td>0.3</td>\n",
       "      <td>14.15</td>\n",
       "    </tr>\n",
       "    <tr>\n",
       "      <th>1048573</th>\n",
       "      <td>1048573</td>\n",
       "      <td>2</td>\n",
       "      <td>264.0</td>\n",
       "      <td>264.0</td>\n",
       "      <td>0</td>\n",
       "      <td>0.5</td>\n",
       "      <td>1.80</td>\n",
       "      <td>04/06/2017 06:43:22 PM</td>\n",
       "      <td>04/06/2017 06:56:09 PM</td>\n",
       "      <td>4.0</td>\n",
       "      <td>0.0</td>\n",
       "      <td>2.0</td>\n",
       "      <td>1.0</td>\n",
       "      <td>N</td>\n",
       "      <td>1</td>\n",
       "      <td>0.3</td>\n",
       "      <td>11.8</td>\n",
       "    </tr>\n",
       "    <tr>\n",
       "      <th>1048574</th>\n",
       "      <td>1048574</td>\n",
       "      <td>1</td>\n",
       "      <td>74.0</td>\n",
       "      <td>74.0</td>\n",
       "      <td>0</td>\n",
       "      <td>0.5</td>\n",
       "      <td>0.30</td>\n",
       "      <td>04/04/2017 07:45:03 AM</td>\n",
       "      <td>04/04/2017 07:47:49 AM</td>\n",
       "      <td>1.0</td>\n",
       "      <td>0.0</td>\n",
       "      <td>2.0</td>\n",
       "      <td>1.0</td>\n",
       "      <td>N</td>\n",
       "      <td>0</td>\n",
       "      <td>0.3</td>\n",
       "      <td>4.8</td>\n",
       "    </tr>\n",
       "  </tbody>\n",
       "</table>\n",
       "<p>1048573 rows × 17 columns</p>\n",
       "</div>"
      ],
      "text/plain": [
       "              ID vendor+AF8-id  pickup+AF8-loc  drop+AF8-loc driver+AF8-tip  \\\n",
       "0              0             1           170.0         233.0           1.83   \n",
       "1              1             2           151.0         243.0           3.56   \n",
       "2              2             2            68.0          90.0            1.5   \n",
       "3              3             2           142.0         234.0            1.5   \n",
       "4              4             2           238.0         238.0              0   \n",
       "...          ...           ...             ...           ...            ...   \n",
       "1048570  1048570             1            48.0          50.0              1   \n",
       "1048571  1048571             1           237.0         166.0              0   \n",
       "1048572  1048572             1           164.0          90.0           2.35   \n",
       "1048573  1048573             2           264.0         264.0              0   \n",
       "1048574  1048574             1            74.0          74.0              0   \n",
       "\n",
       "        mta+AF8-tax  distance         pickup+AF8-time           drop+AF8-time  \\\n",
       "0               0.5      0.70  04/04/2017 05:59:43 PM  04/04/2017 06:05:04 PM   \n",
       "1               0.5      4.64  04/03/2017 07:03:34 PM  04/03/2017 07:20:04 PM   \n",
       "2               0.5      1.29  04/03/2017 03:06:13 PM  04/03/2017 03:12:30 PM   \n",
       "3               0.5      2.74  04/04/2017 08:10:52 AM  04/04/2017 08:27:00 AM   \n",
       "4               0.5      0.45  04/05/2017 02:02:59 PM  04/05/2017 02:05:41 PM   \n",
       "...             ...       ...                     ...                     ...   \n",
       "1048570         0.5      1.40  04/06/2017 11:17:09 PM  04/06/2017 11:25:04 PM   \n",
       "1048571         0.5      3.60  04/06/2017 10:58:47 AM  04/06/2017 11:22:04 AM   \n",
       "1048572         0.5      1.70  04/06/2017 10:03:42 PM  04/06/2017 10:17:04 PM   \n",
       "1048573         0.5      1.80  04/06/2017 06:43:22 PM  04/06/2017 06:56:09 PM   \n",
       "1048574         0.5      0.30  04/04/2017 07:45:03 AM  04/04/2017 07:47:49 AM   \n",
       "\n",
       "         num+AF8-passengers toll+AF8-amount  payment+AF8-method  \\\n",
       "0                       1.0             0.0                 1.0   \n",
       "1                       1.0             0.0                 1.0   \n",
       "2                       2.0             0.0                 1.0   \n",
       "3                       1.0             0.0                 1.0   \n",
       "4                       6.0             0.0                 2.0   \n",
       "...                     ...             ...                 ...   \n",
       "1048570                 1.0             0.0                 1.0   \n",
       "1048571                 1.0             0.0                 2.0   \n",
       "1048572                 1.0             0.0                 1.0   \n",
       "1048573                 4.0             0.0                 2.0   \n",
       "1048574                 1.0             0.0                 2.0   \n",
       "\n",
       "         rate+AF8-code stored+AF8-flag extra+AF8-charges  \\\n",
       "0                  1.0               N                 1   \n",
       "1                  1.0               N                 1   \n",
       "2                  1.0               N                 0   \n",
       "3                  1.0               N                 0   \n",
       "4                  1.0               N                 0   \n",
       "...                ...             ...               ...   \n",
       "1048570            1.0               N               0.5   \n",
       "1048571            1.0               N                 0   \n",
       "1048572            1.0               N               0.5   \n",
       "1048573            1.0               N                 1   \n",
       "1048574            1.0               N                 0   \n",
       "\n",
       "        improvement+AF8-charge total+AF8-amount  \n",
       "0                          0.3             9.13  \n",
       "1                          0.3            21.36  \n",
       "2                          0.3              8.8  \n",
       "3                          0.3             14.8  \n",
       "4                          0.3              4.8  \n",
       "...                        ...              ...  \n",
       "1048570                    0.3              9.8  \n",
       "1048571                    0.3             18.3  \n",
       "1048572                    0.3            14.15  \n",
       "1048573                    0.3             11.8  \n",
       "1048574                    0.3              4.8  \n",
       "\n",
       "[1048573 rows x 17 columns]"
      ]
     },
     "execution_count": 9,
     "metadata": {},
     "output_type": "execute_result"
    }
   ],
   "source": [
    "df"
   ]
  },
  {
   "cell_type": "code",
   "execution_count": 10,
   "metadata": {},
   "outputs": [
    {
     "data": {
      "text/plain": [
       "Index(['ID', 'vendor+AF8-id', 'pickup+AF8-loc', 'drop+AF8-loc',\n",
       "       'driver+AF8-tip', 'mta+AF8-tax', 'distance', 'pickup+AF8-time',\n",
       "       'drop+AF8-time', 'num+AF8-passengers', 'toll+AF8-amount',\n",
       "       'payment+AF8-method', 'rate+AF8-code', 'stored+AF8-flag',\n",
       "       'extra+AF8-charges', 'improvement+AF8-charge', 'total+AF8-amount'],\n",
       "      dtype='object')"
      ]
     },
     "execution_count": 10,
     "metadata": {},
     "output_type": "execute_result"
    }
   ],
   "source": [
    "df.columns"
   ]
  },
  {
   "cell_type": "code",
   "execution_count": 11,
   "metadata": {},
   "outputs": [],
   "source": [
    "df['vendor+AF8-id'] = pd.to_numeric(df['vendor+AF8-id'],errors = 'coerce')\n",
    "df['driver+AF8-tip'] = pd.to_numeric(df['driver+AF8-tip'],errors = 'coerce')\n",
    "df['mta+AF8-tax'] = pd.to_numeric(df['mta+AF8-tax'],errors = 'coerce')\n",
    "df['toll+AF8-amount'] = pd.to_numeric(df['toll+AF8-amount'],errors = 'coerce')\n",
    "df['extra+AF8-charges'] = pd.to_numeric(df['extra+AF8-charges'],errors = 'coerce')\n",
    "df['improvement+AF8-charge'] = pd.to_numeric(df['improvement+AF8-charge'],errors = 'coerce')\n",
    "df['total+AF8-amount'] = pd.to_numeric(df['total+AF8-amount'],errors = 'coerce')"
   ]
  },
  {
   "cell_type": "code",
   "execution_count": 12,
   "metadata": {},
   "outputs": [
    {
     "name": "stdout",
     "output_type": "stream",
     "text": [
      "<class 'pandas.core.frame.DataFrame'>\n",
      "Int64Index: 1048573 entries, 0 to 1048574\n",
      "Data columns (total 17 columns):\n",
      " #   Column                  Non-Null Count    Dtype  \n",
      "---  ------                  --------------    -----  \n",
      " 0   ID                      1048573 non-null  int64  \n",
      " 1   vendor+AF8-id           1048573 non-null  int64  \n",
      " 2   pickup+AF8-loc          1048573 non-null  float64\n",
      " 3   drop+AF8-loc            1048573 non-null  float64\n",
      " 4   driver+AF8-tip          1048561 non-null  float64\n",
      " 5   mta+AF8-tax             1048068 non-null  float64\n",
      " 6   distance                1048573 non-null  float64\n",
      " 7   pickup+AF8-time         1048573 non-null  object \n",
      " 8   drop+AF8-time           1048573 non-null  object \n",
      " 9   num+AF8-passengers      1048573 non-null  float64\n",
      " 10  toll+AF8-amount         1048571 non-null  float64\n",
      " 11  payment+AF8-method      1048573 non-null  float64\n",
      " 12  rate+AF8-code           1048573 non-null  float64\n",
      " 13  stored+AF8-flag         1048573 non-null  object \n",
      " 14  extra+AF8-charges       1048349 non-null  float64\n",
      " 15  improvement+AF8-charge  1048052 non-null  float64\n",
      " 16  total+AF8-amount        1048052 non-null  float64\n",
      "dtypes: float64(12), int64(2), object(3)\n",
      "memory usage: 144.0+ MB\n"
     ]
    }
   ],
   "source": [
    "df.info()"
   ]
  },
  {
   "cell_type": "code",
   "execution_count": 13,
   "metadata": {},
   "outputs": [],
   "source": [
    "df = df.dropna()"
   ]
  },
  {
   "cell_type": "code",
   "execution_count": 14,
   "metadata": {},
   "outputs": [
    {
     "data": {
      "text/plain": [
       "1048052"
      ]
     },
     "execution_count": 14,
     "metadata": {},
     "output_type": "execute_result"
    }
   ],
   "source": [
    "len(df)"
   ]
  },
  {
   "cell_type": "code",
   "execution_count": 15,
   "metadata": {},
   "outputs": [
    {
     "data": {
      "text/plain": [
       "<AxesSubplot:xlabel='total+AF8-amount'>"
      ]
     },
     "execution_count": 15,
     "metadata": {},
     "output_type": "execute_result"
    },
    {
     "data": {
      "image/png": "[encoded data removed]",
      "text/plain": [
       "<Figure size 432x288 with 1 Axes>"
      ]
     },
     "metadata": {
      "needs_background": "light"
     },
     "output_type": "display_data"
    }
   ],
   "source": [
    "sns.rugplot(x='total+AF8-amount',data=df,height=0.5)"
   ]
  },
  {
   "cell_type": "code",
   "execution_count": 16,
   "metadata": {},
   "outputs": [],
   "source": [
    "dropping = df[(df['distance']==0)&(df['total+AF8-amount']>0)].index"
   ]
  },
  {
   "cell_type": "code",
   "execution_count": 17,
   "metadata": {},
   "outputs": [
    {
     "name": "stderr",
     "output_type": "stream",
     "text": [
      "C:\\Users\\divik\\AppData\\Local\\Temp\\ipykernel_5336\\1060809836.py:1: SettingWithCopyWarning: \n",
      "A value is trying to be set on a copy of a slice from a DataFrame\n",
      "\n",
      "See the caveats in the documentation: https://pandas.pydata.org/pandas-docs/stable/user_guide/indexing.html#returning-a-view-versus-a-copy\n",
      "  df.drop(dropping,axis=0,inplace=True)\n"
     ]
    }
   ],
   "source": [
    "df.drop(dropping,axis=0,inplace=True)"
   ]
  },
  {
   "cell_type": "code",
   "execution_count": 18,
   "metadata": {},
   "outputs": [
    {
     "data": {
      "text/plain": [
       "<AxesSubplot:xlabel='total+AF8-amount'>"
      ]
     },
     "execution_count": 18,
     "metadata": {},
     "output_type": "execute_result"
    },
    {
     "data": {
      "image/png": "[encoded data removed]",
      "text/plain": [
       "<Figure size 432x288 with 1 Axes>"
      ]
     },
     "metadata": {
      "needs_background": "light"
     },
     "output_type": "display_data"
    }
   ],
   "source": [
    "sns.rugplot(x='total+AF8-amount',data=df,height=0.5)"
   ]
  },
  {
   "cell_type": "code",
   "execution_count": 24,
   "metadata": {},
   "outputs": [
    {
     "data": {
      "text/plain": [
       "array(['N', 'Y'], dtype=object)"
      ]
     },
     "execution_count": 24,
     "metadata": {},
     "output_type": "execute_result"
    }
   ],
   "source": [
    "df['stored+AF8-flag'].unique()"
   ]
  },
  {
   "cell_type": "code",
   "execution_count": 25,
   "metadata": {},
   "outputs": [
    {
     "data": {
      "text/plain": [
       "<AxesSubplot:xlabel='stored+AF8-flag', ylabel='count'>"
      ]
     },
     "execution_count": 25,
     "metadata": {},
     "output_type": "execute_result"
    },
    {
     "data": {
      "image/png": "[encoded data removed]",
      "text/plain": [
       "<Figure size 432x288 with 1 Axes>"
      ]
     },
     "metadata": {
      "needs_background": "light"
     },
     "output_type": "display_data"
    }
   ],
   "source": [
    "sns.countplot(x='stored+AF8-flag',data=df)"
   ]
  },
  {
   "cell_type": "code",
   "execution_count": 27,
   "metadata": {},
   "outputs": [
    {
     "data": {
      "text/plain": [
       "7077"
      ]
     },
     "execution_count": 27,
     "metadata": {},
     "output_type": "execute_result"
    }
   ],
   "source": [
    "len(df[df['stored+AF8-flag']=='Y'])"
   ]
  },
  {
   "cell_type": "code",
   "execution_count": 28,
   "metadata": {},
   "outputs": [
    {
     "name": "stderr",
     "output_type": "stream",
     "text": [
      "C:\\Users\\divik\\AppData\\Local\\Temp\\ipykernel_5336\\3272197525.py:1: SettingWithCopyWarning: \n",
      "A value is trying to be set on a copy of a slice from a DataFrame\n",
      "\n",
      "See the caveats in the documentation: https://pandas.pydata.org/pandas-docs/stable/user_guide/indexing.html#returning-a-view-versus-a-copy\n",
      "  df.drop('ID',axis=1,inplace=True)\n"
     ]
    }
   ],
   "source": [
    "df.drop('ID',axis=1,inplace=True)"
   ]
  },
  {
   "cell_type": "code",
   "execution_count": 29,
   "metadata": {},
   "outputs": [
    {
     "data": {
      "text/plain": [
       "16"
      ]
     },
     "execution_count": 29,
     "metadata": {},
     "output_type": "execute_result"
    }
   ],
   "source": [
    "len(df.columns)"
   ]
  },
  {
   "cell_type": "markdown",
   "metadata": {},
   "source": []
  },
  {
   "cell_type": "code",
   "execution_count": 45,
   "metadata": {},
   "outputs": [
    {
     "data": {
      "text/plain": [
       "<AxesSubplot:xlabel='distance', ylabel='total+AF8-amount'>"
      ]
     },
     "execution_count": 45,
     "metadata": {},
     "output_type": "execute_result"
    },
    {
     "data": {
      "image/png": "[encoded data removed]",
      "text/plain": [
       "<Figure size 432x288 with 1 Axes>"
      ]
     },
     "metadata": {
      "needs_background": "light"
     },
     "output_type": "display_data"
    }
   ],
   "source": [
    "sns.scatterplot(data=df,x='distance',y='total+AF8-amount',hue='vendor+AF8-id')"
   ]
  },
  {
   "cell_type": "code",
   "execution_count": null,
   "metadata": {},
   "outputs": [],
   "source": []
  },
  {
   "cell_type": "code",
   "execution_count": null,
   "metadata": {},
   "outputs": [],
   "source": []
  },
  {
   "cell_type": "code",
   "execution_count": null,
   "metadata": {},
   "outputs": [],
   "source": []
  },
  {
   "cell_type": "code",
   "execution_count": null,
   "metadata": {},
   "outputs": [],
   "source": []
  },
  {
   "cell_type": "code",
   "execution_count": null,
   "metadata": {},
   "outputs": [],
   "source": []
  },
  {
   "cell_type": "code",
   "execution_count": 15,
   "metadata": {},
   "outputs": [],
   "source": [
    "# X = df.drop(['total+AF8-amount'],axis=1)\n",
    "# y = df['total+AF8-amount']"
   ]
  }
 ],
 "metadata": {
  "kernelspec": {
   "display_name": "Python 3 (ipykernel)",
   "language": "python",
   "name": "python3"
  },
  "language_info": {
   "codemirror_mode": {
    "name": "ipython",
    "version": 3
   },
   "file_extension": ".py",
   "mimetype": "text/x-python",
   "name": "python",
   "nbconvert_exporter": "python",
   "pygments_lexer": "ipython3",
   "version": "3.9.12"
  },
  "vscode": {
   "interpreter": {
    "hash": "a2abd47540d79ed017d58b2814c99371760a05027a4637b535e37e6d333f8ef3"
   }
  }
 },
 "nbformat": 4,
 "nbformat_minor": 2
}
